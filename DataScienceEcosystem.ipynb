{
 "cells": [
  {
   "cell_type": "markdown",
   "id": "896526dc",
   "metadata": {},
   "source": [
    "# Data Science Tools and Ecosystem"
   ]
  },
  {
   "cell_type": "markdown",
   "id": "f19c7130",
   "metadata": {},
   "source": [
    "In this notebook, Data Science Tools and Ecosystem are summarized."
   ]
  },
  {
   "cell_type": "markdown",
   "id": "8632a098",
   "metadata": {},
   "source": [
    "Some of the popular languages that Data Scientists use are:\n",
    "* numpy\n",
    "* Pandas\n",
    "* seaborn"
   ]
  },
  {
   "cell_type": "markdown",
   "id": "2a1190da",
   "metadata": {},
   "source": [
    "**Objectives:**\n",
    "* popular languages for Data Science\n",
    "    * C++\n",
    "    * Python\n",
    "    * R\n",
    "* popular libraries for Data Science\n",
    "    * seaborn\n",
    "    * numpy\n",
    "    * pandas\n",
    "* types of tools used in Data Science\n",
    "    * Open Source\n",
    "    * Commercial\n",
    "    * Cloud Based"
   ]
  },
  {
   "cell_type": "markdown",
   "id": "30fea613",
   "metadata": {},
   "source": [
    "## Author\n",
    "name V R Surya Prakash\n"
   ]
  },
  {
   "cell_type": "markdown",
   "id": "2ff69841",
   "metadata": {},
   "source": [
    "Below are a few examples of evaluating arithmetic expressions in Python\n",
    "### 5+10%2\n",
    "### 10-3*20"
   ]
  },
  {
   "cell_type": "code",
   "execution_count": 5,
   "id": "2b59e4fe",
   "metadata": {},
   "outputs": [
    {
     "name": "stdout",
     "output_type": "stream",
     "text": [
      "17\n"
     ]
    }
   ],
   "source": [
    "#This a simple arithmetic expression to mutiply then add integers\n",
    "print((3*4)+5)"
   ]
  },
  {
   "cell_type": "code",
   "execution_count": 6,
   "id": "042267fc",
   "metadata": {},
   "outputs": [
    {
     "name": "stdout",
     "output_type": "stream",
     "text": [
      "3.3333333333333335  hours\n"
     ]
    }
   ],
   "source": [
    "#This will convert 200 minutes to hours by diving by 60\n",
    "print(200/60,\" hours\")"
   ]
  },
  {
   "cell_type": "code",
   "execution_count": null,
   "id": "3e41f361",
   "metadata": {},
   "outputs": [],
   "source": []
  }
 ],
 "metadata": {
  "kernelspec": {
   "display_name": "Python 3 (ipykernel)",
   "language": "python",
   "name": "python3"
  },
  "language_info": {
   "codemirror_mode": {
    "name": "ipython",
    "version": 3
   },
   "file_extension": ".py",
   "mimetype": "text/x-python",
   "name": "python",
   "nbconvert_exporter": "python",
   "pygments_lexer": "ipython3",
   "version": "3.11.5"
  }
 },
 "nbformat": 4,
 "nbformat_minor": 5
}
