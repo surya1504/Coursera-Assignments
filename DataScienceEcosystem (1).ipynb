{
 "cells": [
  {
   "cell_type": "markdown",
   "id": "896526dc",
   "metadata": {},
   "source": [
    "# Data Science Tools and Ecosystem"
   ]
  },
  {
   "cell_type": "markdown",
   "id": "8b1b73d9",
   "metadata": {},
   "source": [
    "In this notebook, Data Science Tools and Ecosystem are summarized."
   ]
  },
  {
   "cell_type": "markdown",
   "id": "3d0f67e3",
   "metadata": {},
   "source": [
    "**Objectives:**\n",
    "* popular languages for Data Science\n",
    "    * C++\n",
    "    * Python\n",
    "    * R\n",
    "* popular libraries for Data Science\n",
    "    * seaborn\n",
    "    * numpy\n",
    "    * pandas\n",
    "* types of tools used in Data Science\n",
    "    * Open Source\n",
    "    * Commercial\n",
    "    * Cloud Based"
   ]
  },
  {
   "cell_type": "markdown",
   "id": "9c8182d5",
   "metadata": {},
   "source": [
    "Some of the popular languages that Data Scientists use are:\n",
    "* R\n",
    "* Python\n",
    "* C++"
   ]
  },
  {
   "cell_type": "markdown",
   "id": "8202450e",
   "metadata": {},
   "source": [
    "Some of the commonly used libraries used by Data Scientists include:\n",
    "* numpy\n",
    "* Pandas\n",
    "* seaborn"
   ]
  },
  {
   "cell_type": "markdown",
   "id": "715825b7",
   "metadata": {},
   "source": [
    "|$Data Science Tools$|\n",
    "|--------------------|\n",
    "|SAS|\n",
    "|Apache Spark|\n",
    "|BigML|\n",
    "    \n",
    "\n"
   ]
  },
  {
   "cell_type": "markdown",
   "id": "d7c610d7",
   "metadata": {},
   "source": [
    "Below are a few examples of evaluating arithmetic expressions in Python\n",
    "### 5+10%2\n",
    "### 10-3*20"
   ]
  },
  {
   "cell_type": "code",
   "execution_count": 5,
   "id": "9ff2bf50",
   "metadata": {},
   "outputs": [
    {
     "name": "stdout",
     "output_type": "stream",
     "text": [
      "17\n"
     ]
    }
   ],
   "source": [
    "#This a simple arithmetic expression to mutiply then add integers\n",
    "print((3*4)+5)"
   ]
  },
  {
   "cell_type": "code",
   "execution_count": 6,
   "id": "60513ffc",
   "metadata": {},
   "outputs": [
    {
     "name": "stdout",
     "output_type": "stream",
     "text": [
      "3.3333333333333335  hours\n"
     ]
    }
   ],
   "source": [
    "#This will convert 200 minutes to hours by diving by 60\n",
    "print(200/60,\" hours\")"
   ]
  },
  {
   "cell_type": "markdown",
   "id": "c1316f74",
   "metadata": {},
   "source": [
    "## Author\n",
    "name V R Surya Prakash\n"
   ]
  }
 ],
 "metadata": {
  "kernelspec": {
   "display_name": "Python 3 (ipykernel)",
   "language": "python",
   "name": "python3"
  },
  "language_info": {
   "codemirror_mode": {
    "name": "ipython",
    "version": 3
   },
   "file_extension": ".py",
   "mimetype": "text/x-python",
   "name": "python",
   "nbconvert_exporter": "python",
   "pygments_lexer": "ipython3",
   "version": "3.11.5"
  }
 },
 "nbformat": 4,
 "nbformat_minor": 5
}
